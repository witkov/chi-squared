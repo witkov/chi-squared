{
  "nbformat": 4,
  "nbformat_minor": 0,
  "metadata": {
    "colab": {
      "name": "Copy of Copy of gauss.ipynb",
      "provenance": [],
      "collapsed_sections": [],
      "authorship_tag": "ABX9TyMNGNHNO04D3FAoM1ZBXRX+",
      "include_colab_link": true
    },
    "kernelspec": {
      "name": "python3",
      "display_name": "Python 3"
    }
  },
  "cells": [
    {
      "cell_type": "markdown",
      "metadata": {
        "id": "view-in-github",
        "colab_type": "text"
      },
      "source": [
        "<a href=\"https://colab.research.google.com/github/witkov/chi-squared/blob/master/gauss.ipynb\" target=\"_parent\"><img src=\"https://colab.research.google.com/assets/colab-badge.svg\" alt=\"Open In Colab\"/></a>"
      ]
    },
    {
      "cell_type": "code",
      "metadata": {
        "id": "QSq4zE0EnXZA",
        "colab_type": "code",
        "colab": {
          "base_uri": "https://localhost:8080/",
          "height": 310
        },
        "outputId": "649af793-224e-476f-fde7-3c7fc223d048"
      },
      "source": [
        "# 1dchi2.py version 5/11/20\n",
        "# This script does chi-square curve fitting to a 1-parameter linear model\n",
        "# y = Ax\n",
        "# Needed are three arrays:\n",
        "    # x is an array of mean values for the independent variable\n",
        "    # y is an array of mean values for the depednent variable\n",
        "    # y_err is an array of standard errors (i.e., SD/(sqrt of N)) for y\n",
        "# Note that this script only handles errors on the dependent (y) variable.\n",
        "# SOFTWARE DEPENDENCIES: Numpy, Matplotlib\n",
        "# ---------------------------------------------------------------------------\n",
        "# AUTHORS:  Carey Witkov, witkov.github@gmail.com, and Keith Zengel, zengel@fas.harvard.edu\n",
        "# COPYRIGHT: This script is copyright (2017-2020) Carey Witkov and Keith Zengel.\n",
        "# LICENSE:  Creative Commons Attribution-NonCommercial 4.0 International (CC BY-NC 4.0)\n",
        "# https://creativecommons.org/licenses/by-nc/4.0/\n",
        "# DISCLAIMER: THE SOFTWARE IS PROVIDED \"AS IS\", WITHOUT WARRANTY OF ANY KIND, EXPRESS OR\n",
        "# IMPLIED, INCLUDING BUT NOT LIMITED TO THE WARRANTIES OF MERCHANTABILITY,\n",
        "# FITNESS FOR A PARTICULAR PURPOSE AND NONINFRINGEMENT. IN NO EVENT SHALL THE\n",
        "# AUTHORS OR COPYRIGHT HOLDERS BE LIABLE FOR ANY CLAIM, DAMAGES OR OTHER\n",
        "# LIABILITY, WHETHER IN AN ACTION OF CONTRACT, TORT OR OTHERWISE, ARISING FROM,\n",
        "# OUT OF OR IN CONNECTION WITH THE SOFTWARE OR THE USE OR OTHER DEALINGS IN THE\n",
        "# SOFTWARE.\n",
        "# ---------------------------------------------------------------------------\n",
        "import matplotlib.pyplot as plt\n",
        "from numpy import *\n",
        "import numpy as np\n",
        "\n",
        "#\n",
        "ind_var = np.array([1, 2, 3, 4, 5, 8])\n",
        "\n",
        "# \n",
        "dep_var1 = np.array([2.78, 2.80, 2.80])\n",
        "dep_var2 = np.array([3.00, 3.03, 3.00])\n",
        "dep_var3 = np.array([3.13, 3.10, 3.05])\n",
        "dep_var4 = np.array([2.98, 2.95, 3.00])\n",
        "dep_var5 = np.array([2.95, 2.98, 3.00])\n",
        "dep_var6 = np.array([2.88, 2.98, 3.08])\n",
        "n=len(dep_var1)\n",
        "\n",
        "dep_var = np.array([mean(dep_var1), mean(dep_var2), mean(dep_var3), mean(dep_var4), mean(dep_var5), mean(dep_var6)])\n",
        "sigma_dep_var=np.array([np.std(dep_var1, ddof=1), np.std(dep_var2, ddof=1), np.std(dep_var3, ddof=1), np.std(dep_var4, ddof=1), np.std(dep_var5, ddof=1),np.std(dep_var6, ddof=1)]/np.sqrt(n));\n",
        "\n",
        "# x,y data arrays and y-error array\n",
        "x = ind_var\n",
        "y = dep_var\n",
        "yerr = sigma_dep_var\n",
        "\n",
        "# plot data with errorbars \n",
        "plt.figure()\n",
        "plt.errorbar(x,y,yerr,linestyle='None',fmt='.k', label =\"data\")\n",
        "plt.xlabel('number of steel balls', fontsize=16)\n",
        "plt.ylabel('final horizontal velocity (m/s)', fontsize=16)\n",
        "plt.grid(True)\n",
        "plt.ylim(2.4,3.5)\n",
        "\n",
        "# add legend\n",
        "plt.legend(loc=\"upper left\")\n",
        "\n",
        "\n",
        "\n"
      ],
      "execution_count": null,
      "outputs": [
        {
          "output_type": "execute_result",
          "data": {
            "text/plain": [
              "<matplotlib.legend.Legend at 0x7f535cf78128>"
            ]
          },
          "metadata": {
            "tags": []
          },
          "execution_count": 9
        },
        {
          "output_type": "display_data",
          "data": {
            "image/png": "[encoded data removed]",
            "text/plain": [
              "<Figure size 432x288 with 1 Axes>"
            ]
          },
          "metadata": {
            "tags": [],
            "needs_background": "light"
          }
        }
      ]
    },
    {
      "cell_type": "code",
      "metadata": {
        "id": "-qU-pJPu7xtY",
        "colab_type": "code",
        "colab": {}
      },
      "source": [
        ""
      ],
      "execution_count": null,
      "outputs": []
    },
    {
      "cell_type": "code",
      "metadata": {
        "id": "jBz9DBlw70Tt",
        "colab_type": "code",
        "colab": {}
      },
      "source": [
        ""
      ],
      "execution_count": null,
      "outputs": []
    }
  ]
}