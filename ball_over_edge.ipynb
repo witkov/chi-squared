{
  "nbformat": 4,
  "nbformat_minor": 0,
  "metadata": {
    "colab": {
      "name": "ball over edge.ipynb",
      "provenance": [],
      "authorship_tag": "ABX9TyMQ8sgpIpl4M3i8eJ6dAMqh",
      "include_colab_link": true
    },
    "kernelspec": {
      "name": "python3",
      "display_name": "Python 3"
    },
    "language_info": {
      "name": "python"
    }
  },
  "cells": [
    {
      "cell_type": "markdown",
      "metadata": {
        "id": "view-in-github",
        "colab_type": "text"
      },
      "source": [
        "<a href=\"https://colab.research.google.com/github/witkov/chi-squared/blob/master/ball_over_edge.ipynb\" target=\"_parent\"><img src=\"https://colab.research.google.com/assets/colab-badge.svg\" alt=\"Open In Colab\"/></a>"
      ]
    },
    {
      "cell_type": "code",
      "metadata": {
        "colab": {
          "base_uri": "https://localhost:8080/",
          "height": 655
        },
        "id": "8OJcXdHIm7jU",
        "outputId": "e7ca769d-5a8b-47d1-8b5d-9714b313f8e3"
      },
      "source": [
        "# 2dchi2.py version 5/12/20\n",
        "# This script does chi-square curve fitting to the 2-parameter linear model y = Ax + B\n",
        "#\n",
        "# Three arrays are needed:\n",
        "    # x is an array of mean values for the independent variable\n",
        "    # y is an array of mean values for the dependent variable\n",
        "    # y_err is an array of standard errors (SD/(sqrt of N)) for y\n",
        "#\n",
        "# This script assumes errors on the dependent (y) variable only.\n",
        "#\n",
        "# SOFTWARE DEPENDENCIES: Numpy, Matplotlib\n",
        "# ---------------------------------------------------------------------------\n",
        "# Copyright (C) 2020 Carey Witkov and Keith Zengel\n",
        "\n",
        "# This program is free software: you can redistribute it and/or modify it under \n",
        "# the terms of the GNU General Public License as published by the Free Software \n",
        "# Foundation; either version 3 of the License, or (at your option) any later version.\n",
        "\n",
        "# This program is distributed in the hope that it will be useful, but WITHOUT ANY WARRANTY; \n",
        "# without even the implied warranty of MERCHANTABILITY or FITNESS FOR A PARTICULAR PURPOSE. \n",
        "# See the GNU General Public License for more details.\n",
        "\n",
        "# You should have received a copy of the GNU General Public License along with this program. \n",
        "# If not, see https://www.gnu.org/licenses/.\n",
        "# ---------------------------------------------------------------------------\n",
        "import matplotlib.pyplot as plt\n",
        "from numpy import *\n",
        "import numpy as np\n",
        "\n",
        "# \n",
        "ind_var = np.array([0.241, 0.367, 0.158, 0.848, 0.287])\n",
        "\n",
        "# \n",
        "dep_var1 = np.array([0.289, 0.323, 0.345, 0.263, 0.260, 0.355])\n",
        "dep_var2 = np.array([0.426, 0.466, 0.475, 0.467, 0.419,0.381])\n",
        "dep_var3 = np.array([0.238, 0.240, 0.225, 0.234, 0.207,0.203])\n",
        "dep_var4 = np.array([0.800, 0.865, 1.166, 0.974, 1.011, 1.302])\n",
        "dep_var5 = np.array([0.297, 0.341, 0.391, 0.348, 0.357, 0.491])\n",
        "n=len(dep_var1)\n",
        "\n",
        "dep_var = np.array([mean(dep_var1), mean(dep_var2), mean(dep_var3), mean(dep_var4), mean(dep_var5)])\n",
        "sigma_dv=np.array([np.std(dep_var1, ddof=1), np.std(dep_var2, ddof=1), np.std(dep_var3, ddof=1), np.std(dep_var4, ddof=1), np.std(dep_var5, ddof=1)]/np.sqrt(n));\n",
        "N = len(dep_var)\n",
        "\n",
        "# x,y data arrays and y-error array\n",
        "x = ind_var**2\n",
        "y = dep_var**(2/3)\n",
        "yerr = sigma_dv*(2/3)*dep_var**(-1/3)\n",
        "\n",
        "# calculate sums needed to obtain chi-square\n",
        "Syy=sum(y**2/yerr**2)\n",
        "Sxx=sum(x**2/yerr**2)\n",
        "S0=sum(1/yerr**2)\n",
        "Sxy=sum((y*x)/yerr**2)\n",
        "Sy=sum(y/yerr**2)\n",
        "Sx=sum(x/yerr**2)\n",
        "\n",
        "Abest = (S0*Sxy - Sx*Sy)/(S0*Sxx - (Sx*Sx))\n",
        "Bbest = (Sy*Sxx - Sx*Sxy)/(S0*Sxx - (Sx*Sx))\n",
        "minchi2 = Syy+(S0*(Sxy*Sxy) - 2*Sx*Sy*Sxy + Sxx*(Sy*Sy))/((Sx*Sx) - (S0*Sxx))\n",
        "sigmaA = 1/sqrt(Sxx)\n",
        "sigmaB = 1/sqrt(S0)\n",
        "\n",
        "# create parameter grid\n",
        "a_factor = .1\n",
        "b_factor = 3\n",
        "a = np.linspace(Abest-a_factor*Abest,Abest+a_factor*Abest,1000)\n",
        "b = np.linspace(Bbest-b_factor*Bbest,Bbest+b_factor*Bbest,1000)\n",
        "A,B = np.meshgrid(a,b)\n",
        "\n",
        "# calculate chi-square over parameter grid\n",
        "chi2=(Syy) + (A**2)*(Sxx) + (B**2)*(S0) - 2*A*Sxy - 2*B*Sy + 2*A*B*Sx\n",
        "     \n",
        "# plot data with errorbars \n",
        "plt.figure()\n",
        "plt.errorbar(x,y,yerr,linestyle='None',fmt='.k')\n",
        "plt.xlabel('x',fontsize=16)\n",
        "plt.ylabel('y',fontsize=16)\n",
        "plt.grid(True)\n",
        "# plt.title('y vs x data and line-of-best-fit', fontsize=16)\n",
        "plt.plot(x,Abest*x+Bbest)\n",
        "\n",
        "# plot chi-square in A-b parameter plane with 68% and 95% contours\n",
        "plt.figure()\n",
        "levels=[minchi2,minchi2+2.3,minchi2+6]\n",
        "Z=plt.contour(B,A,chi2,levels)\n",
        "plt.ylim(Abest-a_factor*Abest,Abest+a_factor*Abest)\n",
        "plt.xlim(Bbest-b_factor*Bbest,Bbest+b_factor*Bbest)\n",
        "plt.plot(Bbest,Abest,'+')\n",
        "plt.ylabel('A (slope)',fontsize=16)\n",
        "plt.xlabel('B (intercept)',fontsize=16)\n",
        "\n",
        "# add legend\n",
        "artists, labels = Z.legend_elements()\n",
        "plt.legend(handles=artists, labels=[\"+ minchi2\",\"68% Contour\",\"95% Contour\"], loc='upper left')\n",
        "plt.show()\n",
        "\n",
        "# display main results\n",
        "print(\"CHI-SQUARED ANALYSIS RESULTS\")\n",
        "Abest_float = \"{:.2f}\".format(Abest)\n",
        "print(\"A_best =\",Abest_float)\n",
        "Bbest_float = \"{:.2f}\".format(Bbest)\n",
        "print(\"B_best =\",Bbest_float)\n",
        "minchi2_float = \"{:.2f}\".format(minchi2)\n",
        "print(\"minchi2 =\",minchi2_float)\n",
        "print(\"N =\", N)\n",
        "N_min_float = \"{:.2f}\".format(N-sqrt(2*N))\n",
        "N_max_float = \"{:.2f}\".format(N+sqrt(2*N))\n",
        "print(\"minchi2 good fit range = [\",N_min_float, \",\",N_max_float,\"]\")\n",
        "# contour68 = \"{:.2f}\".format(levels[1])\n",
        "# print(\"chi2 for 68% Contour =\", contour68)\n",
        "# contour95 = \"{:.2f}\".format(levels[2])\n",
        "# print(\"chi2 for 95% Contour =\", contour95)"
      ],
      "execution_count": 12,
      "outputs": [
        {
          "output_type": "display_data",
          "data": {
            "image/png": "[encoded data removed]",
            "text/plain": [
              "<Figure size 432x288 with 1 Axes>"
            ]
          },
          "metadata": {
            "needs_background": "light"
          }
        },
        {
          "output_type": "display_data",
          "data": {
            "image/png": "[encoded data removed]",
            "text/plain": [
              "<Figure size 432x288 with 1 Axes>"
            ]
          },
          "metadata": {
            "needs_background": "light"
          }
        },
        {
          "output_type": "stream",
          "text": [
            "CHI-SQUARED ANALYSIS RESULTS\n",
            "A_best = 1.14\n",
            "B_best = 0.36\n",
            "minchi2 = 50.02\n",
            "N = 5\n",
            "minchi2 good fit range = [ 1.84 , 8.16 ]\n"
          ],
          "name": "stdout"
        }
      ]
    }
  ]
}