{
  "nbformat": 4,
  "nbformat_minor": 0,
  "metadata": {
    "colab": {
      "name": "Copy of Generic1d.ipynb",
      "provenance": [],
      "collapsed_sections": [],
      "authorship_tag": "ABX9TyMdDMl88L7G3zDuVK80RZBM",
      "include_colab_link": true
    },
    "kernelspec": {
      "name": "python3",
      "display_name": "Python 3"
    }
  },
  "cells": [
    {
      "cell_type": "markdown",
      "metadata": {
        "id": "view-in-github",
        "colab_type": "text"
      },
      "source": [
        "<a href=\"https://colab.research.google.com/github/witkov/chi-squared/blob/master/Generic1d.ipynb\" target=\"_parent\"><img src=\"https://colab.research.google.com/assets/colab-badge.svg\" alt=\"Open In Colab\"/></a>"
      ]
    },
    {
      "cell_type": "code",
      "metadata": {
        "id": "JosYegxQnWjS",
        "colab_type": "code",
        "colab": {}
      },
      "source": [
        ""
      ],
      "execution_count": null,
      "outputs": []
    },
    {
      "cell_type": "code",
      "metadata": {
        "id": "Vh8LBzQahQxi",
        "colab_type": "code",
        "colab": {}
      },
      "source": [
        ""
      ],
      "execution_count": null,
      "outputs": []
    },
    {
      "cell_type": "code",
      "metadata": {
        "id": "QSq4zE0EnXZA",
        "colab_type": "code",
        "colab": {
          "base_uri": "https://localhost:8080/",
          "height": 636
        },
        "outputId": "d0ec9672-4bfe-4915-ff57-30647376c285"
      },
      "source": [
        "# 1dchi2.py version 5/11/20\n",
        "# This script does chi-square curve fitting to a 1-parameter linear model\n",
        "# y = Ax\n",
        "# Needed are three arrays:\n",
        "    # x is an array of mean values for the independent variable\n",
        "    # y is an array of mean values for the depednent variable\n",
        "    # y_err is an array of standard errors (i.e., SD/(sqrt of N)) for y\n",
        "# Note that this script only handles errors on the dependent (y) variable.\n",
        "# SOFTWARE DEPENDENCIES: Numpy, Matplotlib\n",
        "# ---------------------------------------------------------------------------\n",
        "# AUTHORS:  Carey Witkov, witkov.github@gmail.com, and Keith Zengel, zengel@fas.harvard.edu\n",
        "# COPYRIGHT: This script is copyright (2017-2020) Carey Witkov and Keith Zengel.\n",
        "# LICENSE:  Creative Commons Attribution-NonCommercial 4.0 International (CC BY-NC 4.0)\n",
        "# https://creativecommons.org/licenses/by-nc/4.0/\n",
        "# DISCLAIMER: THE SOFTWARE IS PROVIDED \"AS IS\", WITHOUT WARRANTY OF ANY KIND, EXPRESS OR\n",
        "# IMPLIED, INCLUDING BUT NOT LIMITED TO THE WARRANTIES OF MERCHANTABILITY,\n",
        "# FITNESS FOR A PARTICULAR PURPOSE AND NONINFRINGEMENT. IN NO EVENT SHALL THE\n",
        "# AUTHORS OR COPYRIGHT HOLDERS BE LIABLE FOR ANY CLAIM, DAMAGES OR OTHER\n",
        "# LIABILITY, WHETHER IN AN ACTION OF CONTRACT, TORT OR OTHERWISE, ARISING FROM,\n",
        "# OUT OF OR IN CONNECTION WITH THE SOFTWARE OR THE USE OR OTHER DEALINGS IN THE\n",
        "# SOFTWARE.\n",
        "# ---------------------------------------------------------------------------\n",
        "import matplotlib.pyplot as plt\n",
        "from numpy import *\n",
        "import numpy as np\n",
        "\n",
        "# \n",
        "ind_var = np.array([1, 2, 3, 4, 5])\n",
        "\n",
        "# \n",
        "dep_var1 = np.array([1.5, 2.5, 2.2, 1.5, 2.1])\n",
        "dep_var2 = np.array([3.5, 4.1, 3.5, 4.5, 4.1])\n",
        "dep_var3 = np.array([6, 5.5, 6.2, 6.5, 6.1])\n",
        "dep_var4 = np.array([7.5, 8.2, 8.5, 7.5, 8.2])\n",
        "dep_var5 = np.array([10, 10.2, 10.5, 11.5, 10])\n",
        "n=len(dep_var1)\n",
        "\n",
        "dep_var = np.array([mean(dep_var1), mean(dep_var2), mean(dep_var3), mean(dep_var4), mean(dep_var5)])\n",
        "sigma_dv=np.array([np.std(dep_var1, ddof=1), np.std(dep_var2, ddof=1), np.std(dep_var3, ddof=1), np.std(dep_var4, ddof=1), np.std(dep_var5, ddof=1)]/np.sqrt(n));\n",
        "\n",
        "# x,y data arrays and y-error array\n",
        "x = ind_var\n",
        "y = dep_var\n",
        "yerr = sigma_dv\n",
        "\n",
        "# calculate sums needed to obtain chi-square\n",
        "s_yy=sum((y**2)/(yerr**2));\n",
        "s_xx=sum((x**2)/(yerr**2));\n",
        "s_xy=sum((y*x)/(yerr**2));\n",
        "\n",
        "A_best = s_xy/s_xx\n",
        "sigma_A = 1/sqrt(s_xx)\n",
        "minchi2 = s_yy - s_xy**2/s_xx\n",
        "\n",
        "# plot data with errorbars \n",
        "plt.figure()\n",
        "plt.errorbar(x,y,yerr,linestyle='None',fmt='.k', label =\"data\")\n",
        "plt.xlabel('x', fontsize=16)\n",
        "plt.ylabel('y', fontsize=16)\n",
        "plt.grid(True)\n",
        "plt.plot(x, A_best*x, label=\"best-fit\")\n",
        "\n",
        "# add legend\n",
        "plt.legend(loc=\"upper left\")\n",
        "\n",
        "# create parameter range for slope\n",
        "xmin = A_best-2*sigma_A\n",
        "ymin = A_best+2*sigma_A\n",
        "A = np.linspace(xmin,ymin,200)\n",
        "\n",
        "# calculate chi-square \n",
        "chi2 = s_yy + (A**2)*(s_xx) - 2*A*s_xy \n",
        "     \n",
        "# display chi-square vs. slope\n",
        "plt.figure()\n",
        "plt.plot(A,chi2, label='$\\chi^{2}(A)$')\n",
        "plt.xlabel('slope',fontsize=16)\n",
        "plt.ylabel('chisq',fontsize=16)\n",
        "plt.grid(True)\n",
        "plt.hlines(minchi2+1,xmin,ymin, label='$\\chi^{2}_{min} + 1$' )\n",
        "\n",
        "# add legend\n",
        "plt.legend(loc=\"upper center\")\n",
        "\n",
        "# display main results\n",
        "print(\"CHI-SQUARED ANALYSIS RESULTS:\")\n",
        "A_best_float = \"{:.2f}\".format(A_best)\n",
        "minchi2_float = \"{:.2f}\".format(minchi2)\n",
        "print(\"A_best =\",A_best_float)\n",
        "print(\"minchi2 = \",minchi2_float)\n",
        "N = len(x)\n",
        "print(\"N = \", N)\n",
        "N_min_float = \"{:.2f}\".format(N-sqrt(2*N))\n",
        "N_max_float = \"{:.2f}\".format(N+sqrt(2*N))\n",
        "print(\"good fit range for minchi2 = [\",N_min_float, \",\",N_max_float,\"]\")\n"
      ],
      "execution_count": null,
      "outputs": [
        {
          "output_type": "stream",
          "text": [
            "CHI-SQUARED ANALYSIS RESULTS:\n",
            "A_best = 2.02\n",
            "minchi2 =  2.05\n",
            "N =  5\n",
            "good fit range for minchi2 = [ 1.84 , 8.16 ]\n"
          ],
          "name": "stdout"
        },
        {
          "output_type": "display_data",
          "data": {
            "image/png": "[encoded data removed]",
            "text/plain": [
              "<Figure size 432x288 with 1 Axes>"
            ]
          },
          "metadata": {
            "tags": [],
            "needs_background": "light"
          }
        },
        {
          "output_type": "display_data",
          "data": {
            "image/png": "[encoded data removed]",
            "text/plain": [
              "<Figure size 432x288 with 1 Axes>"
            ]
          },
          "metadata": {
            "tags": [],
            "needs_background": "light"
          }
        }
      ]
    },
    {
      "cell_type": "code",
      "metadata": {
        "id": "-qU-pJPu7xtY",
        "colab_type": "code",
        "colab": {}
      },
      "source": [
        ""
      ],
      "execution_count": null,
      "outputs": []
    },
    {
      "cell_type": "code",
      "metadata": {
        "id": "jBz9DBlw70Tt",
        "colab_type": "code",
        "colab": {}
      },
      "source": [
        ""
      ],
      "execution_count": null,
      "outputs": []
    }
  ]
}